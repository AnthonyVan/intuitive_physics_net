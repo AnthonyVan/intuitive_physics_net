{
 "cells": [
  {
   "cell_type": "code",
   "execution_count": 4,
   "metadata": {},
   "outputs": [],
   "source": [
    "import tensorflow as tf\n",
    "import cv2\n",
    "import os\n",
    "import numpy as np\n",
    "import matplotlib.pyplot as plt"
   ]
  },
  {
   "cell_type": "code",
   "execution_count": 5,
   "metadata": {},
   "outputs": [],
   "source": [
    "# data loading and cleaning\n",
    "\n",
    "features_path = \"./training_set/features/\"\n",
    "labels_path = \"./training_set/labels/\"\n",
    "\n",
    "def load_data(img_dir):\n",
    "    return np.array([cv2.imread(os.path.join(img_dir, img)) for img in sorted(os.listdir(img_dir)) if img.endswith(\".jpeg\")])"
   ]
  },
  {
   "cell_type": "code",
   "execution_count": 6,
   "metadata": {},
   "outputs": [],
   "source": [
    "feature_imgs = load_data(features_path) # (7280, 32, 42, 3)\n",
    "label_imgs = load_data(labels_path) # (3640, 32, 42, 3)"
   ]
  },
  {
   "cell_type": "code",
   "execution_count": 7,
   "metadata": {},
   "outputs": [
    {
     "data": {
      "text/plain": [
       "<matplotlib.image.AxesImage at 0x7fd61cbad240>"
      ]
     },
     "execution_count": 7,
     "metadata": {},
     "output_type": "execute_result"
    },
    {
     "data": {
      "image/png": "[encoded data removed]",
      "text/plain": [
       "<Figure size 432x288 with 1 Axes>"
      ]
     },
     "metadata": {},
     "output_type": "display_data"
    }
   ],
   "source": [
    "plt.imshow(feature_imgs[4900])"
   ]
  },
  {
   "cell_type": "code",
   "execution_count": 8,
   "metadata": {},
   "outputs": [
    {
     "data": {
      "text/plain": [
       "(32, 42, 6)"
      ]
     },
     "execution_count": 8,
     "metadata": {},
     "output_type": "execute_result"
    }
   ],
   "source": [
    "# scratch\n",
    "num_imgs = feature_imgs.shape[0] # 7280\n",
    "paired_samp = np.array(np.split(feature_imgs, num_imgs/2))\n",
    "paired_samp.shape # (3640, 2, 32, 42, 3)\n",
    "paired_samp[0].shape # (2, 32, 42, 3)\n",
    "np.concatenate((paired_samp[0][0], paired_samp[0][1]), axis=2).shape"
   ]
  },
  {
   "cell_type": "code",
   "execution_count": 9,
   "metadata": {},
   "outputs": [],
   "source": [
    "def concat_frames(samples):\n",
    "    num_samples = samples.shape[0]\n",
    "    paired_samples = np.array(np.split(samples, num_samples / 2))\n",
    "    \n",
    "    concatenated_frames = []\n",
    "    \n",
    "    for pair in paired_samples:\n",
    "        concatenated_frames.append(np.concatenate((pair[0], pair[1]), axis=2))\n",
    "\n",
    "    return np.array(concatenated_frames)"
   ]
  },
  {
   "cell_type": "code",
   "execution_count": 10,
   "metadata": {},
   "outputs": [
    {
     "data": {
      "text/plain": [
       "(3640, 32, 42, 6)"
      ]
     },
     "execution_count": 10,
     "metadata": {},
     "output_type": "execute_result"
    }
   ],
   "source": [
    "paired_frames = concat_frames(feature_imgs)\n",
    "paired_frames.shape"
   ]
  },
  {
   "cell_type": "code",
   "execution_count": 11,
   "metadata": {},
   "outputs": [],
   "source": [
    "tf.reset_default_graph()"
   ]
  },
  {
   "cell_type": "code",
   "execution_count": 12,
   "metadata": {},
   "outputs": [],
   "source": [
    "# Convolution Layers\n",
    "\n",
    "# individual frames are 42 w x 32 h x 3 d\n",
    "\n",
    "X = tf.placeholder(tf.float32, [None, 32, 42, 6], name=\"X\")\n",
    "\n",
    "# the 'label' is the frame following the last one from above\n",
    "y = tf.placeholder(tf.float32, [None, 32, 42, 3], name=\"y\")\n",
    "\n",
    "# Convolution Layer #1\n",
    "# output is 32 channels, 32 rows, 42 cols\n",
    "conv1 = tf.layers.conv2d(\n",
    "          inputs=X,\n",
    "          filters=32,\n",
    "          kernel_size=[5, 5],\n",
    "          padding=\"same\",\n",
    "          activation=tf.nn.relu)\n",
    "\n",
    "# Pooling Layer #1\n",
    "# output is 32 channels, 16 rows, 21 cols\n",
    "pool1 = tf.layers.max_pooling2d(inputs=conv1, pool_size=[2, 2], strides=2)\n",
    "\n",
    "# Convolution Layer #2\n",
    "# output is 64 channels, 16 rows, 21 cols\n",
    "conv2 = tf.layers.conv2d(\n",
    "          inputs=pool1,\n",
    "          filters=64,\n",
    "          kernel_size=[5, 5],\n",
    "          padding=\"same\",\n",
    "          activation=tf.nn.relu)\n",
    "\n",
    "# Pooling Layer #2\n",
    "# output is 64 channels, 8 rows, 11 cols = 5632\n",
    "pool2 = tf.layers.max_pooling2d(inputs=conv2, pool_size=[2, 2], strides=2, padding=\"same\") \n",
    "pool2_flat = tf.reshape(pool2, [-1, 8 * 11 * 64])\n"
   ]
  },
  {
   "cell_type": "code",
   "execution_count": 13,
   "metadata": {},
   "outputs": [
    {
     "data": {
      "text/plain": [
       "TensorShape([Dimension(3640), Dimension(4032)])"
      ]
     },
     "execution_count": 13,
     "metadata": {},
     "output_type": "execute_result"
    }
   ],
   "source": [
    "label_imgs_flat = tf.reshape(label_imgs, [-1, 32 * 42 * 3])\n",
    "label_imgs_flat.shape"
   ]
  },
  {
   "cell_type": "code",
   "execution_count": 14,
   "metadata": {},
   "outputs": [],
   "source": [
    "# Set Hyperparameters\n",
    "learning_rate = 0.01\n",
    "epochs = 5\n",
    "batch_size = 140\n",
    "num_samples = 3640"
   ]
  },
  {
   "cell_type": "code",
   "execution_count": 15,
   "metadata": {},
   "outputs": [],
   "source": [
    "# Autoencoder \n",
    "d1_neurons = 300\n",
    "d2_neurons = 150\n",
    "d3_neurons = 300\n",
    "\n",
    "num_outputs = 32 * 42 * 3\n",
    "\n",
    "# He Initialization\n",
    "he_init = tf.contrib.layers.variance_scaling_initializer()\n",
    "\n",
    "# L2 Regularization\n",
    "l2_reg = tf.contrib.layers.l2_regularizer(0.0001)\n",
    "\n",
    "# Dense Layer #1\n",
    "dense1 = tf.layers.dense(inputs=pool2_flat, \n",
    "                         units=d1_neurons, \n",
    "                         kernel_initializer=he_init, \n",
    "                         kernel_regularizer=l2_reg, \n",
    "                         activation=tf.nn.relu)\n",
    "\n",
    "# Dense Layer #2\n",
    "dense2 = tf.layers.dense(inputs=dense1, \n",
    "                         units=d2_neurons, \n",
    "                         kernel_initializer=he_init, \n",
    "                         kernel_regularizer=l2_reg, \n",
    "                         activation=tf.nn.relu)\n",
    "\n",
    "# Dense Layer #3\n",
    "dense3 = tf.layers.dense(inputs=dense2, \n",
    "                         units=d3_neurons, \n",
    "                         kernel_initializer=he_init, \n",
    "                         kernel_regularizer=l2_reg, \n",
    "                         activation=tf.nn.relu)\n",
    "\n",
    "# Dense Layer #4\n",
    "dense4 = tf.layers.dense(inputs=dense3, \n",
    "                         units=num_outputs, \n",
    "                         kernel_initializer=he_init, \n",
    "                         kernel_regularizer=l2_reg, \n",
    "                         activation=None)\n",
    "\n",
    "\n",
    "reconstruction_loss = tf.reduce_mean(tf.square(dense4 - tf.cast(tf.reshape(y, [-1, 4032]), tf.float32)))\n",
    "\n",
    "reg_losses = tf.get_collection(tf.GraphKeys.REGULARIZATION_LOSSES)\n",
    "loss = tf.add_n([reconstruction_loss] + reg_losses)\n",
    "\n",
    "optimizer = tf.train.AdamOptimizer(learning_rate)\n",
    "training_op = optimizer.minimize(loss)"
   ]
  },
  {
   "cell_type": "code",
   "execution_count": 16,
   "metadata": {},
   "outputs": [],
   "source": [
    "# shuffle training set\n",
    "indices = np.random.permutation(num_samples)\n",
    "\n",
    "shuffled_x = paired_frames[indices]\n",
    "shuffled_labels = label_imgs[indices]"
   ]
  },
  {
   "cell_type": "code",
   "execution_count": 17,
   "metadata": {},
   "outputs": [],
   "source": [
    "def get_next_batch(batch_size, iteration):\n",
    "    ceiling = batch_size * (1 + iteration)\n",
    "    floor = ceiling - batch_size\n",
    "    \n",
    "    X_batch = shuffled_x[floor:ceiling] \n",
    "    y_batch = label_imgs[floor:ceiling] \n",
    "    return X_batch, y_batch"
   ]
  },
  {
   "cell_type": "code",
   "execution_count": 18,
   "metadata": {},
   "outputs": [
    {
     "name": "stdout",
     "output_type": "stream",
     "text": [
      "epoch 0 MSE: 705.2136\n",
      "epoch 1 MSE: 312.57376\n",
      "epoch 2 MSE: 297.41327\n",
      "epoch 3 MSE: 291.40906\n",
      "epoch 4 MSE: 290.049\n"
     ]
    }
   ],
   "source": [
    "init = tf.global_variables_initializer()\n",
    "\n",
    "with tf.Session() as sess:\n",
    "    init.run()\n",
    "    for epoch in range(epochs):\n",
    "        n_batches = num_samples // batch_size\n",
    "        \n",
    "        for iteration in range(n_batches):            \n",
    "            X_batch, y_batch = get_next_batch(batch_size, iteration)\n",
    "            \n",
    "            sess.run(training_op, feed_dict={X: X_batch, y: y_batch})\n",
    "            \n",
    "        loss_train = reconstruction_loss.eval(feed_dict={X: X_batch, y: y_batch})   \n",
    "        print(\"epoch\", epoch, \"MSE:\", loss_train)                   "
   ]
  },
  {
   "cell_type": "code",
   "execution_count": null,
   "metadata": {},
   "outputs": [],
   "source": []
  }
 ],
 "metadata": {
  "kernelspec": {
   "display_name": "Environment (conda_tensorflow_p36)",
   "language": "python",
   "name": "conda_tensorflow_p36"
  },
  "language_info": {
   "codemirror_mode": {
    "name": "ipython",
    "version": 3
   },
   "file_extension": ".py",
   "mimetype": "text/x-python",
   "name": "python",
   "nbconvert_exporter": "python",
   "pygments_lexer": "ipython3",
   "version": "3.6.4"
  }
 },
 "nbformat": 4,
 "nbformat_minor": 2
}
